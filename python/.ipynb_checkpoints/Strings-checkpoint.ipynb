{
 "cells": [
  {
   "cell_type": "markdown",
   "id": "bbc626ad-c4c6-4fc5-9507-5aefb954ba81",
   "metadata": {},
   "source": [
    "# String\n",
    "a sequence of characters (alpha , num , special symbols and whitespace) enclosed in single or double quotes"
   ]
  },
  {
   "cell_type": "markdown",
   "id": "f3f30730-76ac-4b15-8575-76eea3096bf7",
   "metadata": {},
   "source": [
    "## How to check data type of a value | variable\n",
    "<b style=\"font-size:24px;color:red\">type(value | variable)</b> return the data type of the specified value | variable"
   ]
  },
  {
   "cell_type": "code",
   "execution_count": 1,
   "id": "136e53ac-aa5b-4c55-9839-3746ae23bd23",
   "metadata": {},
   "outputs": [
    {
     "name": "stdout",
     "output_type": "stream",
     "text": [
      "<class 'int'>\n"
     ]
    }
   ],
   "source": [
    "print(type(123))"
   ]
  },
  {
   "cell_type": "code",
   "execution_count": 3,
   "id": "17402f23-54ee-4310-9225-be62b7726366",
   "metadata": {},
   "outputs": [
    {
     "name": "stdout",
     "output_type": "stream",
     "text": [
      "<class 'str'>\n"
     ]
    }
   ],
   "source": [
    "print(type(\"123\"))"
   ]
  },
  {
   "cell_type": "code",
   "execution_count": 4,
   "id": "7c9dd80f-979a-4b93-93e3-f4c086251aaf",
   "metadata": {},
   "outputs": [
    {
     "name": "stdout",
     "output_type": "stream",
     "text": [
      "<class 'str'>\n"
     ]
    }
   ],
   "source": [
    "print(type(\"hello arihant\"))"
   ]
  },
  {
   "cell_type": "code",
   "execution_count": null,
   "id": "a1db89d6-6d6d-4d4f-a534-2b69b3c76222",
   "metadata": {},
   "outputs": [],
   "source": []
  },
  {
   "cell_type": "code",
   "execution_count": 6,
   "id": "31fe56f7-2df3-4540-95c3-63e084e9270f",
   "metadata": {},
   "outputs": [],
   "source": [
    "txt = \"hello world this is arihant\""
   ]
  },
  {
   "cell_type": "markdown",
   "id": "5ab4da42-99f2-4e0b-9576-0f78dfb91cfb",
   "metadata": {},
   "source": [
    "### How to check the length in a string \n",
    "<b style=\"font-size:24px;color:red\">len(string)</b> function returns the length of the specified string"
   ]
  },
  {
   "cell_type": "code",
   "execution_count": 42,
   "id": "8670ceac-7ae6-4615-9e26-14f5dabe05c0",
   "metadata": {},
   "outputs": [
    {
     "name": "stdout",
     "output_type": "stream",
     "text": [
      "27\n"
     ]
    }
   ],
   "source": [
    "print(len(txt))"
   ]
  },
  {
   "cell_type": "code",
   "execution_count": null,
   "id": "4a7e43d8-ab47-4b0c-b2a5-8dc17bc2fdad",
   "metadata": {},
   "outputs": [],
   "source": []
  },
  {
   "cell_type": "markdown",
   "id": "acccb074-91b3-4444-aa8a-29ec6cc4c815",
   "metadata": {},
   "source": [
    "## concatenation\n",
    "adding two or more strings together using +"
   ]
  },
  {
   "cell_type": "code",
   "execution_count": 48,
   "id": "d2d0eb02-148d-41ec-ba44-58e910e67422",
   "metadata": {},
   "outputs": [
    {
     "name": "stdout",
     "output_type": "stream",
     "text": [
      "Enter your first name :  john\n",
      "Enter your last name :  doe\n"
     ]
    }
   ],
   "source": [
    "first = input(\"Enter your first name : \")\n",
    "last = input(\"Enter your last name : \")"
   ]
  },
  {
   "cell_type": "code",
   "execution_count": 50,
   "id": "1e4b7f99-e949-428e-bf9c-a5ef64a41af4",
   "metadata": {},
   "outputs": [
    {
     "name": "stdout",
     "output_type": "stream",
     "text": [
      "hello world my name is john doe\n"
     ]
    }
   ],
   "source": [
    "print(\"hello world my name is \" + first + \" \" + last)"
   ]
  },
  {
   "cell_type": "code",
   "execution_count": null,
   "id": "72d6ef3d-5cb1-453e-a024-913a6ea3318d",
   "metadata": {},
   "outputs": [],
   "source": []
  },
  {
   "cell_type": "code",
   "execution_count": null,
   "id": "3977b4d1-9c3d-4711-ad6c-fcda156d9c3d",
   "metadata": {},
   "outputs": [],
   "source": []
  },
  {
   "cell_type": "markdown",
   "id": "7decdc5d-1ea0-4a5d-a664-b96e58b07ca5",
   "metadata": {},
   "source": [
    "## Formatted string\n",
    "f ' ' | f \" \""
   ]
  },
  {
   "cell_type": "code",
   "execution_count": 56,
   "id": "7d540c9a-bc0b-4f2a-8e41-2f3cb1bb861a",
   "metadata": {},
   "outputs": [
    {
     "name": "stdout",
     "output_type": "stream",
     "text": [
      "hello world my name is john doe.\n"
     ]
    }
   ],
   "source": [
    "print(f\"hello world my name is {first} {last}.\")"
   ]
  },
  {
   "cell_type": "code",
   "execution_count": null,
   "id": "ab1f0ea5-3251-4825-9bd6-750b6e22c95f",
   "metadata": {},
   "outputs": [],
   "source": []
  },
  {
   "cell_type": "code",
   "execution_count": null,
   "id": "9dc506cf-4da9-46e2-9bfa-211207bfafc9",
   "metadata": {},
   "outputs": [],
   "source": []
  },
  {
   "cell_type": "markdown",
   "id": "0644edf5-d822-4f47-a6fd-12f0e1bab6b8",
   "metadata": {},
   "source": [
    "## Indexing\n",
    "counting starting from 0 , used to access characters of a string\n",
    "\n",
    "<ul>\n",
    "    <li>The first character is on the <b>0th</b> index</li>\n",
    "    <li>The last character is on the <b>len(str) - 1</b> th index</li>\n",
    "</ul>\n",
    "\n",
    "<b>ex : str[0]</b>"
   ]
  },
  {
   "cell_type": "code",
   "execution_count": 65,
   "id": "650ef8bd-052b-4d6e-a60c-c1b3469f9b66",
   "metadata": {},
   "outputs": [
    {
     "name": "stdout",
     "output_type": "stream",
     "text": [
      "h\n"
     ]
    }
   ],
   "source": [
    "print(txt[0]) # first character of the string"
   ]
  },
  {
   "cell_type": "code",
   "execution_count": 69,
   "id": "4709c2e3-5dc4-4eac-ba8f-6dd60cbc4831",
   "metadata": {},
   "outputs": [
    {
     "name": "stdout",
     "output_type": "stream",
     "text": [
      "t\n"
     ]
    }
   ],
   "source": [
    "print(txt[ len(txt) - 1 ])"
   ]
  },
  {
   "cell_type": "code",
   "execution_count": 71,
   "id": "fb478cf5-f8c7-420c-af2d-642a3459d2a5",
   "metadata": {},
   "outputs": [
    {
     "name": "stdout",
     "output_type": "stream",
     "text": [
      "27\n"
     ]
    }
   ],
   "source": [
    "print(len(txt))"
   ]
  },
  {
   "cell_type": "code",
   "execution_count": 73,
   "id": "656ebc28-cd38-4abe-a5a2-ddf272a2f429",
   "metadata": {},
   "outputs": [
    {
     "name": "stdout",
     "output_type": "stream",
     "text": [
      "t\n"
     ]
    }
   ],
   "source": [
    "print(txt[26])"
   ]
  },
  {
   "cell_type": "code",
   "execution_count": 75,
   "id": "f8dcf085-25cc-4ca9-917b-4c1affcc35cd",
   "metadata": {},
   "outputs": [
    {
     "name": "stdout",
     "output_type": "stream",
     "text": [
      "t\n"
     ]
    }
   ],
   "source": [
    "print(txt[ len(txt) - 1 ])"
   ]
  },
  {
   "cell_type": "markdown",
   "id": "cd917086-676c-47b0-9b7e-d3fb6222ee00",
   "metadata": {},
   "source": [
    "## String methods\n"
   ]
  },
  {
   "cell_type": "code",
   "execution_count": 12,
   "id": "6cf0e679-8a23-4ca4-8281-3f2d5d2f9bd5",
   "metadata": {},
   "outputs": [
    {
     "name": "stdout",
     "output_type": "stream",
     "text": [
      "HELLO WORLD THIS IS ARIHANT\n"
     ]
    }
   ],
   "source": [
    "print(txt.upper()) # return an uppercase version of string"
   ]
  },
  {
   "cell_type": "code",
   "execution_count": 14,
   "id": "ceb05582-ac7e-41ae-bd19-d00291c3fbee",
   "metadata": {},
   "outputs": [
    {
     "name": "stdout",
     "output_type": "stream",
     "text": [
      "hello world this is arihant\n"
     ]
    }
   ],
   "source": [
    "print(txt.lower()) # return an lowercase version of string"
   ]
  },
  {
   "cell_type": "code",
   "execution_count": 20,
   "id": "523ebc6a-6744-449c-9bd3-b0a71d5bdd23",
   "metadata": {},
   "outputs": [
    {
     "name": "stdout",
     "output_type": "stream",
     "text": [
      "Hello World This Is Arihant\n"
     ]
    }
   ],
   "source": [
    "print(txt.title()) # return an titlecase version of string"
   ]
  },
  {
   "cell_type": "code",
   "execution_count": 22,
   "id": "57843efa-6da4-4329-9e3f-08247560789e",
   "metadata": {},
   "outputs": [
    {
     "name": "stdout",
     "output_type": "stream",
     "text": [
      "Hello world this is arihant\n"
     ]
    }
   ],
   "source": [
    "print(txt.capitalize()) # return an capitalize version of string"
   ]
  },
  {
   "cell_type": "code",
   "execution_count": 30,
   "id": "3517a2cc-abed-4ee7-a5f7-12044c54fbb2",
   "metadata": {},
   "outputs": [
    {
     "name": "stdout",
     "output_type": "stream",
     "text": [
      "2\n"
     ]
    }
   ],
   "source": [
    "print(txt.count(\"a\"))"
   ]
  },
  {
   "cell_type": "code",
   "execution_count": 32,
   "id": "dd47817f-8e0a-4f14-b33e-28f281948699",
   "metadata": {},
   "outputs": [
    {
     "name": "stdout",
     "output_type": "stream",
     "text": [
      "20\n"
     ]
    }
   ],
   "source": [
    "print(txt.find(\"a\")) # return the index of first occurance of the specified string"
   ]
  },
  {
   "cell_type": "code",
   "execution_count": 34,
   "id": "06edd335-267f-4522-a179-83442b601726",
   "metadata": {},
   "outputs": [
    {
     "name": "stdout",
     "output_type": "stream",
     "text": [
      "24\n"
     ]
    }
   ],
   "source": [
    "print(txt.find(\"a\" , 21)) # find String,  start position (inclusive) "
   ]
  },
  {
   "cell_type": "code",
   "execution_count": 36,
   "id": "60ca417e-d314-46ae-9435-9a163f9bfe29",
   "metadata": {},
   "outputs": [
    {
     "name": "stdout",
     "output_type": "stream",
     "text": [
      "20\n"
     ]
    }
   ],
   "source": [
    "print(txt.index(\"a\")) #return the index of first occurance of the specified string"
   ]
  },
  {
   "cell_type": "code",
   "execution_count": 38,
   "id": "aa7b8697-974a-4356-a23d-720aa66f4029",
   "metadata": {},
   "outputs": [
    {
     "name": "stdout",
     "output_type": "stream",
     "text": [
      "24\n"
     ]
    }
   ],
   "source": [
    "print(txt.index(\"a\",21)) # find String,  start position (inclusive) "
   ]
  },
  {
   "cell_type": "code",
   "execution_count": 40,
   "id": "ee9c997e-66e8-49b1-ac43-39db43fbbd86",
   "metadata": {},
   "outputs": [
    {
     "ename": "ValueError",
     "evalue": "substring not found",
     "output_type": "error",
     "traceback": [
      "\u001b[0;31m---------------------------------------------------------------------------\u001b[0m",
      "\u001b[0;31mValueError\u001b[0m                                Traceback (most recent call last)",
      "Cell \u001b[0;32mIn[40], line 1\u001b[0m\n\u001b[0;32m----> 1\u001b[0m \u001b[38;5;28mprint\u001b[39m(txt\u001b[38;5;241m.\u001b[39mindex(\u001b[38;5;124m\"\u001b[39m\u001b[38;5;124mz\u001b[39m\u001b[38;5;124m\"\u001b[39m))\n",
      "\u001b[0;31mValueError\u001b[0m: substring not found"
     ]
    }
   ],
   "source": [
    "print(txt.index(\"z\")) # index raises an error if the sub string is not found"
   ]
  },
  {
   "cell_type": "code",
   "execution_count": 44,
   "id": "000f5833-d0bf-410d-a948-1ce965edef8e",
   "metadata": {},
   "outputs": [
    {
     "name": "stdout",
     "output_type": "stream",
     "text": [
      "-1\n"
     ]
    }
   ],
   "source": [
    "print(txt.find(\"z\")) # find gives -1 as result if the sub string is not found"
   ]
  },
  {
   "cell_type": "code",
   "execution_count": null,
   "id": "ec51e381-ae85-4abb-92ba-11acdf8e907d",
   "metadata": {},
   "outputs": [],
   "source": []
  },
  {
   "cell_type": "code",
   "execution_count": 53,
   "id": "cb2e72a7-ef32-4f7f-815a-a00c68f3cc9f",
   "metadata": {},
   "outputs": [
    {
     "data": {
      "text/plain": [
       "'hello world this is john'"
      ]
     },
     "execution_count": 53,
     "metadata": {},
     "output_type": "execute_result"
    }
   ],
   "source": [
    "txt.replace(\"arihant\" , \"john\") # what to replace , new value (return a new string)"
   ]
  },
  {
   "cell_type": "code",
   "execution_count": 55,
   "id": "07bce2ee-224d-40df-b6da-1121c7df4a7c",
   "metadata": {},
   "outputs": [
    {
     "name": "stdout",
     "output_type": "stream",
     "text": [
      "hello world this is arihant\n"
     ]
    }
   ],
   "source": [
    "print(txt)"
   ]
  },
  {
   "cell_type": "code",
   "execution_count": null,
   "id": "a485779c-be24-499e-8197-cb565ae4a7f5",
   "metadata": {},
   "outputs": [],
   "source": []
  },
  {
   "cell_type": "code",
   "execution_count": 58,
   "id": "093e719a-bc3b-4856-b571-16ef8108e350",
   "metadata": {},
   "outputs": [
    {
     "data": {
      "text/plain": [
       "'hello world'"
      ]
     },
     "execution_count": 58,
     "metadata": {},
     "output_type": "execute_result"
    }
   ],
   "source": [
    "\"                hello world                \".strip() # return a new string by removing leading and trailing whitespaces"
   ]
  },
  {
   "cell_type": "code",
   "execution_count": null,
   "id": "eda84329-e210-430f-9fc9-833694d5b532",
   "metadata": {},
   "outputs": [],
   "source": []
  },
  {
   "cell_type": "code",
   "execution_count": 67,
   "id": "1feb07d9-7093-434a-a1f9-8bd121af9c08",
   "metadata": {},
   "outputs": [
    {
     "data": {
      "text/plain": [
       "True"
      ]
     },
     "execution_count": 67,
     "metadata": {},
     "output_type": "execute_result"
    }
   ],
   "source": [
    "\n",
    "txt.endswith(\"hant\") #return true if the string ends with the specified sub string , else returns false"
   ]
  },
  {
   "cell_type": "code",
   "execution_count": 69,
   "id": "86dfc50d-fa27-408a-babf-ca3be043f864",
   "metadata": {},
   "outputs": [
    {
     "data": {
      "text/plain": [
       "True"
      ]
     },
     "execution_count": 69,
     "metadata": {},
     "output_type": "execute_result"
    }
   ],
   "source": [
    "txt.startswith(\"hello\") #return true if the string starts with the specified sub string , else returns false"
   ]
  },
  {
   "cell_type": "code",
   "execution_count": null,
   "id": "30327030-2ca9-457c-a8c5-afbb4f6b8423",
   "metadata": {},
   "outputs": [],
   "source": []
  },
  {
   "cell_type": "code",
   "execution_count": null,
   "id": "2c9954a3-ae2c-4dc2-937e-1e5946fee33b",
   "metadata": {},
   "outputs": [],
   "source": []
  },
  {
   "cell_type": "code",
   "execution_count": 73,
   "id": "420a3d06-9dc4-4ef5-ba41-65d14fcf4063",
   "metadata": {},
   "outputs": [
    {
     "data": {
      "text/plain": [
       "'hello world my name is John doe and i am a web developer'"
      ]
     },
     "execution_count": 73,
     "metadata": {},
     "output_type": "execute_result"
    }
   ],
   "source": [
    "\"hello world my name is {} and i am a {}\".format(\"John doe\",\"web developer\")"
   ]
  },
  {
   "cell_type": "code",
   "execution_count": null,
   "id": "50ee173d-629f-48be-a8ee-6963e73c014d",
   "metadata": {},
   "outputs": [],
   "source": []
  },
  {
   "cell_type": "code",
   "execution_count": 76,
   "id": "94a058b2-a2d3-4651-9eec-935f2772bb8d",
   "metadata": {},
   "outputs": [
    {
     "data": {
      "text/plain": [
       "'hELLo wORld i aM jOHn doE.'"
      ]
     },
     "execution_count": 76,
     "metadata": {},
     "output_type": "execute_result"
    }
   ],
   "source": [
    "\"HellO WorLD I Am JohN DOe.\".swapcase() # swap casing  : upper => lower | lower => upper"
   ]
  },
  {
   "cell_type": "code",
   "execution_count": null,
   "id": "9080cfda-b707-45e2-9ce9-0aa8c9a0cd0f",
   "metadata": {},
   "outputs": [],
   "source": []
  },
  {
   "cell_type": "code",
   "execution_count": 104,
   "id": "aa6303cb-635b-428e-b4f6-d96ef89f2651",
   "metadata": {},
   "outputs": [
    {
     "name": "stdout",
     "output_type": "stream",
     "text": [
      "True\n"
     ]
    }
   ],
   "source": [
    "print(\"ar\" in txt) # check if a substring is in your main string"
   ]
  },
  {
   "cell_type": "code",
   "execution_count": null,
   "id": "70dcb434-75ec-4901-b424-5cb05d00b08a",
   "metadata": {},
   "outputs": [],
   "source": []
  },
  {
   "cell_type": "code",
   "execution_count": 107,
   "id": "09be1e2f-9ad4-41b9-93c5-977faea20242",
   "metadata": {},
   "outputs": [
    {
     "data": {
      "text/plain": [
       "True"
      ]
     },
     "execution_count": 107,
     "metadata": {},
     "output_type": "execute_result"
    }
   ],
   "source": [
    "\"helloworld123\".isalnum()# return true if your string is only alpha numeric"
   ]
  },
  {
   "cell_type": "code",
   "execution_count": 109,
   "id": "1c68c58d-0e6a-4c22-a5dc-a34a6ce774b8",
   "metadata": {},
   "outputs": [
    {
     "data": {
      "text/plain": [
       "False"
      ]
     },
     "execution_count": 109,
     "metadata": {},
     "output_type": "execute_result"
    }
   ],
   "source": [
    "\"hello world123\".isalnum()# return true if your string is only alpha numeric"
   ]
  },
  {
   "cell_type": "code",
   "execution_count": 111,
   "id": "0c7115c6-2420-4440-9b2f-ffd6ba5fa228",
   "metadata": {},
   "outputs": [
    {
     "data": {
      "text/plain": [
       "True"
      ]
     },
     "execution_count": 111,
     "metadata": {},
     "output_type": "execute_result"
    }
   ],
   "source": [
    "\"123\".isnumeric() # return true if the string is only numeric , else false"
   ]
  },
  {
   "cell_type": "code",
   "execution_count": 113,
   "id": "06ba52df-2e34-4d06-b02c-ede09ca626cc",
   "metadata": {},
   "outputs": [
    {
     "data": {
      "text/plain": [
       "False"
      ]
     },
     "execution_count": 113,
     "metadata": {},
     "output_type": "execute_result"
    }
   ],
   "source": [
    "\"123a\".isnumeric() # return true if the string is only numeric , else false"
   ]
  },
  {
   "cell_type": "code",
   "execution_count": 115,
   "id": "09c287d7-86d8-491e-bffb-0d68c79d0123",
   "metadata": {},
   "outputs": [
    {
     "data": {
      "text/plain": [
       "False"
      ]
     },
     "execution_count": 115,
     "metadata": {},
     "output_type": "execute_result"
    }
   ],
   "source": [
    "\"hello world\".isspace() # return true if your string is only space , else false"
   ]
  },
  {
   "cell_type": "code",
   "execution_count": 117,
   "id": "213e3faa-ca61-45cb-a98b-4afc102170ed",
   "metadata": {},
   "outputs": [
    {
     "data": {
      "text/plain": [
       "True"
      ]
     },
     "execution_count": 117,
     "metadata": {},
     "output_type": "execute_result"
    }
   ],
   "source": [
    "\"     \".isspace() # return true if your string is only space , else false"
   ]
  },
  {
   "cell_type": "code",
   "execution_count": 129,
   "id": "4ca526a6-504a-4ca6-9cbd-8aa1caa61323",
   "metadata": {},
   "outputs": [
    {
     "data": {
      "text/plain": [
       "True"
      ]
     },
     "execution_count": 129,
     "metadata": {},
     "output_type": "execute_result"
    }
   ],
   "source": [
    "\"134\".isdecimal()"
   ]
  },
  {
   "cell_type": "code",
   "execution_count": null,
   "id": "5c3de5aa-c545-4191-8491-f32cd8c260d3",
   "metadata": {},
   "outputs": [],
   "source": []
  },
  {
   "cell_type": "code",
   "execution_count": 131,
   "id": "558fc0b0-3e31-410a-8e00-3ab589b98d49",
   "metadata": {},
   "outputs": [
    {
     "data": {
      "text/plain": [
       "True"
      ]
     },
     "execution_count": 131,
     "metadata": {},
     "output_type": "execute_result"
    }
   ],
   "source": [
    "\"123\".isdigit()"
   ]
  },
  {
   "cell_type": "code",
   "execution_count": null,
   "id": "d20571f5-22ef-42e1-9429-fc36c52bbec0",
   "metadata": {},
   "outputs": [],
   "source": []
  },
  {
   "cell_type": "code",
   "execution_count": 139,
   "id": "ada7f78d-a174-4b49-b6c9-b37386bf42f3",
   "metadata": {
    "scrolled": true
   },
   "outputs": [
    {
     "data": {
      "text/plain": [
       "False"
      ]
     },
     "execution_count": 139,
     "metadata": {},
     "output_type": "execute_result"
    }
   ],
   "source": [
    "\"hello world\".isidentifier() # check is a string can be used as a variable name"
   ]
  },
  {
   "cell_type": "code",
   "execution_count": 141,
   "id": "7edaff2a-1b65-469c-8dcd-819f315f7694",
   "metadata": {},
   "outputs": [
    {
     "data": {
      "text/plain": [
       "True"
      ]
     },
     "execution_count": 141,
     "metadata": {},
     "output_type": "execute_result"
    }
   ],
   "source": [
    "\"helloworld\".isidentifier()"
   ]
  },
  {
   "cell_type": "code",
   "execution_count": 143,
   "id": "1ea10c52-c127-47b2-825d-f675810ee2a3",
   "metadata": {},
   "outputs": [
    {
     "data": {
      "text/plain": [
       "False"
      ]
     },
     "execution_count": 143,
     "metadata": {},
     "output_type": "execute_result"
    }
   ],
   "source": [
    "\"1helloworld\".isidentifier()"
   ]
  },
  {
   "cell_type": "code",
   "execution_count": 145,
   "id": "86b122ed-4c62-499c-a2e7-c8d0b4d37642",
   "metadata": {},
   "outputs": [
    {
     "data": {
      "text/plain": [
       "True"
      ]
     },
     "execution_count": 145,
     "metadata": {},
     "output_type": "execute_result"
    }
   ],
   "source": [
    "\"hello1world2\".isidentifier()"
   ]
  },
  {
   "cell_type": "code",
   "execution_count": 147,
   "id": "3ca0b46b-f30b-4d29-83e6-243f8aff217d",
   "metadata": {},
   "outputs": [],
   "source": [
    "# a variable name cannot start include or end with a special symbol except _"
   ]
  },
  {
   "cell_type": "code",
   "execution_count": 149,
   "id": "823edd74-70b1-4964-953f-1816c93bc266",
   "metadata": {},
   "outputs": [
    {
     "data": {
      "text/plain": [
       "False"
      ]
     },
     "execution_count": 149,
     "metadata": {},
     "output_type": "execute_result"
    }
   ],
   "source": [
    "\"hello@%\".isidentifier()"
   ]
  },
  {
   "cell_type": "code",
   "execution_count": 151,
   "id": "885e6bdf-cda9-49f3-977e-bce97964d3a7",
   "metadata": {},
   "outputs": [
    {
     "data": {
      "text/plain": [
       "True"
      ]
     },
     "execution_count": 151,
     "metadata": {},
     "output_type": "execute_result"
    }
   ],
   "source": [
    "\"_hello_\".isidentifier()"
   ]
  },
  {
   "cell_type": "code",
   "execution_count": 154,
   "id": "dab12b72-1df7-4d36-804c-244ad2a1c91a",
   "metadata": {},
   "outputs": [
    {
     "data": {
      "text/plain": [
       "' world this is arihant'"
      ]
     },
     "execution_count": 154,
     "metadata": {},
     "output_type": "execute_result"
    }
   ],
   "source": [
    "txt.removeprefix(\"hello\") # return a new string after removing prefix"
   ]
  },
  {
   "cell_type": "code",
   "execution_count": 156,
   "id": "876780c4-88ae-4657-87f1-f9809c330a08",
   "metadata": {},
   "outputs": [
    {
     "data": {
      "text/plain": [
       "'hello world this is ari'"
      ]
     },
     "execution_count": 156,
     "metadata": {},
     "output_type": "execute_result"
    }
   ],
   "source": [
    "txt.removesuffix(\"hant\") # return a new string after removing prefix"
   ]
  },
  {
   "cell_type": "code",
   "execution_count": 160,
   "id": "5693eeef-8399-4bc3-8841-20995a3c025e",
   "metadata": {},
   "outputs": [
    {
     "data": {
      "text/plain": [
       "'hello world this '"
      ]
     },
     "execution_count": 160,
     "metadata": {},
     "output_type": "execute_result"
    }
   ],
   "source": [
    "txt.removesuffix(\"is arihant\") # return a new string after removing prefix"
   ]
  },
  {
   "cell_type": "code",
   "execution_count": 162,
   "id": "0d035f57-4723-4059-9638-8d35b1fde836",
   "metadata": {},
   "outputs": [
    {
     "data": {
      "text/plain": [
       "'hello world this is arihant'"
      ]
     },
     "execution_count": 162,
     "metadata": {},
     "output_type": "execute_result"
    }
   ],
   "source": [
    "txt.removesuffix(\"world\") # return a new string after removing prefix"
   ]
  },
  {
   "cell_type": "code",
   "execution_count": 164,
   "id": "94f53779-7797-421b-a4b0-71c98431d4eb",
   "metadata": {},
   "outputs": [
    {
     "data": {
      "text/plain": [
       "'hello world this is arihant'"
      ]
     },
     "execution_count": 164,
     "metadata": {},
     "output_type": "execute_result"
    }
   ],
   "source": [
    "txt.removeprefix(\"world\") # return a new string after removing prefix"
   ]
  },
  {
   "cell_type": "code",
   "execution_count": null,
   "id": "36c6d525-3792-47a0-b9b8-0d17d6c9e753",
   "metadata": {},
   "outputs": [],
   "source": []
  },
  {
   "cell_type": "code",
   "execution_count": 167,
   "id": "54769cbe-72f9-4e1c-a9b4-8ed5f6340dc7",
   "metadata": {},
   "outputs": [
    {
     "data": {
      "text/plain": [
       "24"
      ]
     },
     "execution_count": 167,
     "metadata": {},
     "output_type": "execute_result"
    }
   ],
   "source": [
    "txt.rfind(\"a\") # return the index of last occurance of the specified string"
   ]
  },
  {
   "cell_type": "code",
   "execution_count": 169,
   "id": "1e0d0647-b115-493d-84a2-e81014e18ce0",
   "metadata": {},
   "outputs": [
    {
     "data": {
      "text/plain": [
       "24"
      ]
     },
     "execution_count": 169,
     "metadata": {},
     "output_type": "execute_result"
    }
   ],
   "source": [
    "txt.rindex(\"a\") # return the index of last occurance of the specified string"
   ]
  },
  {
   "cell_type": "code",
   "execution_count": 171,
   "id": "e4d46808-2a0b-482e-9612-98ec3c81dc4f",
   "metadata": {},
   "outputs": [
    {
     "data": {
      "text/plain": [
       "-1"
      ]
     },
     "execution_count": 171,
     "metadata": {},
     "output_type": "execute_result"
    }
   ],
   "source": [
    "txt.rfind(\"z\") # return the index of last occurance of the specified string"
   ]
  },
  {
   "cell_type": "code",
   "execution_count": 173,
   "id": "6fc1f0bf-e346-46d8-8112-6d7546f91c40",
   "metadata": {},
   "outputs": [
    {
     "ename": "ValueError",
     "evalue": "substring not found",
     "output_type": "error",
     "traceback": [
      "\u001b[0;31m---------------------------------------------------------------------------\u001b[0m",
      "\u001b[0;31mValueError\u001b[0m                                Traceback (most recent call last)",
      "Cell \u001b[0;32mIn[173], line 1\u001b[0m\n\u001b[0;32m----> 1\u001b[0m txt\u001b[38;5;241m.\u001b[39mrindex(\u001b[38;5;124m\"\u001b[39m\u001b[38;5;124mz\u001b[39m\u001b[38;5;124m\"\u001b[39m)\n",
      "\u001b[0;31mValueError\u001b[0m: substring not found"
     ]
    }
   ],
   "source": [
    "txt.rindex(\"z\")"
   ]
  },
  {
   "cell_type": "code",
   "execution_count": null,
   "id": "5bf6dd97-eb1a-4bb8-9e3c-a7790723cb02",
   "metadata": {},
   "outputs": [],
   "source": []
  },
  {
   "cell_type": "code",
   "execution_count": null,
   "id": "8227131d-a1f2-40ba-a653-93835ee6aad4",
   "metadata": {},
   "outputs": [],
   "source": []
  },
  {
   "cell_type": "code",
   "execution_count": 179,
   "id": "49ddfdd9-8f4e-4006-8370-ff31506dcf34",
   "metadata": {},
   "outputs": [
    {
     "data": {
      "text/plain": [
       "'         hello arihant'"
      ]
     },
     "execution_count": 179,
     "metadata": {},
     "output_type": "execute_result"
    }
   ],
   "source": [
    "\"         hello arihant         \".rstrip() # removes trailing white space"
   ]
  },
  {
   "cell_type": "code",
   "execution_count": null,
   "id": "164d8ef9-0c48-4258-bb67-d7758f0bdcde",
   "metadata": {},
   "outputs": [],
   "source": []
  },
  {
   "cell_type": "code",
   "execution_count": 185,
   "id": "ea250eb9-f173-48a5-a7a6-597bbe48b221",
   "metadata": {},
   "outputs": [
    {
     "name": "stdout",
     "output_type": "stream",
     "text": [
      "['hello', 'world', 'this', 'is', 'arihant']\n"
     ]
    }
   ],
   "source": [
    "print(txt.split())# divides the string into a list | array based on the splitter provided, default \" \""
   ]
  },
  {
   "cell_type": "code",
   "execution_count": 187,
   "id": "76b534ce-1b17-4a67-809e-1aa5f72b1d66",
   "metadata": {},
   "outputs": [
    {
     "name": "stdout",
     "output_type": "stream",
     "text": [
      "['hello world this is ', 'rih', 'nt']\n"
     ]
    }
   ],
   "source": [
    "print(txt.split(\"a\"))# divides the string into a list | array based on the splitter provided, default \" \""
   ]
  },
  {
   "cell_type": "markdown",
   "id": "062b233d-fffc-4e5b-a96c-2e1ecbef5f1b",
   "metadata": {},
   "source": [
    "# Creating a multiliner string"
   ]
  },
  {
   "cell_type": "code",
   "execution_count": 197,
   "id": "2f07fac2-4c51-429a-8fc8-d7da400a9888",
   "metadata": {},
   "outputs": [],
   "source": [
    "# appr 1 : using triple double or single quotes\n",
    "# myAddress = \"\"\"m-18, Ground Floor,\n",
    "# old dlf colony, Sector-14,\n",
    "# gurugram, Haryana\"\"\"\n",
    "\n",
    "# myAddress = '''m-18, Ground Floor,\n",
    "# old dlf colony, Sector-14,\n",
    "# gurugram, Haryana'''"
   ]
  },
  {
   "cell_type": "code",
   "execution_count": 199,
   "id": "d5a1a0af-97a4-45c6-ab13-eb66d7878ea3",
   "metadata": {},
   "outputs": [
    {
     "name": "stdout",
     "output_type": "stream",
     "text": [
      "m-18, Ground Floor,\n",
      "old dlf colony, Sector-14,\n",
      "gurugram, Haryana\n"
     ]
    }
   ],
   "source": [
    "print(myAddress)"
   ]
  },
  {
   "cell_type": "code",
   "execution_count": 217,
   "id": "8b532d50-de8c-4b76-9658-7a2166fa41d9",
   "metadata": {},
   "outputs": [],
   "source": [
    "\n",
    "# appr 2 : using \"\\n\" to create a line break\n",
    "myAddress = \"m-18, Ground Floor\\nOld dlf colony, Sector-14\\nGurugram, Haryana\""
   ]
  },
  {
   "cell_type": "code",
   "execution_count": 219,
   "id": "6d6e7f23-427b-4767-90c4-31d6fd8e5502",
   "metadata": {},
   "outputs": [
    {
     "name": "stdout",
     "output_type": "stream",
     "text": [
      "m-18, Ground Floor\n",
      "Old dlf colony, Sector-14\n",
      "Gurugram, Haryana\n"
     ]
    }
   ],
   "source": [
    "print(myAddress)"
   ]
  },
  {
   "cell_type": "code",
   "execution_count": 221,
   "id": "e7886b95-68bc-4ae3-926a-cb3b52b2689f",
   "metadata": {},
   "outputs": [
    {
     "data": {
      "text/plain": [
       "['m-18, Ground Floor', 'Old dlf colony, Sector-14', 'Gurugram, Haryana']"
      ]
     },
     "execution_count": 221,
     "metadata": {},
     "output_type": "execute_result"
    }
   ],
   "source": [
    "myAddress.splitlines() #divides the string into a list | array based on the new line character"
   ]
  },
  {
   "cell_type": "code",
   "execution_count": null,
   "id": "ca33eac1-66e8-46e0-9048-ad13cfbbe9ef",
   "metadata": {},
   "outputs": [],
   "source": []
  }
 ],
 "metadata": {
  "kernelspec": {
   "display_name": "Python (myenv)",
   "language": "python",
   "name": "myenv"
  },
  "language_info": {
   "codemirror_mode": {
    "name": "ipython",
    "version": 3
   },
   "file_extension": ".py",
   "mimetype": "text/x-python",
   "name": "python",
   "nbconvert_exporter": "python",
   "pygments_lexer": "ipython3",
   "version": "3.11.7"
  }
 },
 "nbformat": 4,
 "nbformat_minor": 5
}
