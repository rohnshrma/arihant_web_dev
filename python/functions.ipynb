{
 "cells": [
  {
   "cell_type": "code",
   "execution_count": 2,
   "id": "74baed9f-37e8-48a0-99e4-2ffc761ca0a7",
   "metadata": {},
   "outputs": [],
   "source": [
    "addition = lambda a,b : a+b"
   ]
  },
  {
   "cell_type": "code",
   "execution_count": 4,
   "id": "cef14889-a134-4773-9364-227479caebe2",
   "metadata": {},
   "outputs": [
    {
     "data": {
      "text/plain": [
       "46"
      ]
     },
     "execution_count": 4,
     "metadata": {},
     "output_type": "execute_result"
    }
   ],
   "source": [
    "addition(12,34)"
   ]
  },
  {
   "cell_type": "code",
   "execution_count": 6,
   "id": "6c45769e-8567-42f6-982e-3c7339fb3c35",
   "metadata": {},
   "outputs": [],
   "source": [
    "calcBmi = lambda w,h : w / h ** 2"
   ]
  },
  {
   "cell_type": "code",
   "execution_count": 8,
   "id": "ef0bb884-aaab-4a5e-9d5d-ea62b4b60cb2",
   "metadata": {},
   "outputs": [
    {
     "data": {
      "text/plain": [
       "30.864197530864196"
      ]
     },
     "execution_count": 8,
     "metadata": {},
     "output_type": "execute_result"
    }
   ],
   "source": [
    "calcBmi(100,1.80)"
   ]
  },
  {
   "cell_type": "code",
   "execution_count": null,
   "id": "901b9285-7df5-4d75-8589-628d1252f610",
   "metadata": {},
   "outputs": [],
   "source": []
  }
 ],
 "metadata": {
  "kernelspec": {
   "display_name": "Python (myenv)",
   "language": "python",
   "name": "myenv"
  },
  "language_info": {
   "codemirror_mode": {
    "name": "ipython",
    "version": 3
   },
   "file_extension": ".py",
   "mimetype": "text/x-python",
   "name": "python",
   "nbconvert_exporter": "python",
   "pygments_lexer": "ipython3",
   "version": "3.11.7"
  }
 },
 "nbformat": 4,
 "nbformat_minor": 5
}
